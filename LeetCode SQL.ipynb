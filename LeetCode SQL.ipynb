{
 "cells": [
  {
   "cell_type": "markdown",
   "metadata": {},
   "source": [
    "# All LeetCode SQL exercises solved! (sometimes multiple times!)"
   ]
  },
  {
   "cell_type": "markdown",
   "metadata": {},
   "source": [
    "1. Second Highest Salary in Employees Database"
   ]
  },
  {
   "cell_type": "code",
   "execution_count": null,
   "metadata": {},
   "outputs": [],
   "source": [
    "SELECT IFNULL(\n",
    "    (SELECT DISTINCT Salary\n",
    "    FROM Employee\n",
    "    ORDER BY Salary DESC\n",
    "    LIMIT 1 OFFSET 1), NULL) AS SecondHighestSalary\n",
    "## or ##\n",
    "SELECT IFNULL(\n",
    "    (SELECT MAX(Salary)\n",
    "FROM Employee\n",
    "WHERE Salary < (SELECT MAX(Salary) FROM Employee)), NULL) AS SecondHighestSalary"
   ]
  },
  {
   "cell_type": "markdown",
   "metadata": {},
   "source": [
    "2. Nth Highest Salary in Employees Database"
   ]
  },
  {
   "cell_type": "code",
   "execution_count": null,
   "metadata": {},
   "outputs": [],
   "source": [
    "CREATE FUNCTION getNthHighestSalary(N INT) RETURNS INT\n",
    "BEGIN\n",
    "\n",
    "DECLARE M INT;\n",
    "SET M = N - 1;\n",
    "  RETURN (\n",
    "      SELECT IFNULL(\n",
    "      (SELECT DISTINCT SALARY\n",
    "      FROM Employee\n",
    "      ORDER BY Salary DESC\n",
    "      LIMIT 1 OFFSET M), \n",
    "      NULL) AS NthHighestSalary\n",
    "  );\n",
    "END"
   ]
  },
  {
   "cell_type": "markdown",
   "metadata": {},
   "source": [
    "3. Rank Scores from a table"
   ]
  },
  {
   "cell_type": "code",
   "execution_count": null,
   "metadata": {},
   "outputs": [],
   "source": [
    "SELECT c.Score, Rank\n",
    "FROM Scores as c\n",
    "INNER JOIN (\n",
    "    SELECT SCORE, @count:= @count+1 AS RANK\n",
    "    FROM (\n",
    "        SELECT DISTINCT Score FROM Scores\n",
    "        ORDER BY Score DESC) AS B,\n",
    "        (SELECT @count:=0) AS A) AS d\n",
    "ON c.Score = d.Score\n",
    "ORDER BY Score DESC"
   ]
  },
  {
   "cell_type": "markdown",
   "metadata": {},
   "source": [
    "4. Output Consecutive Numbers"
   ]
  },
  {
   "cell_type": "code",
   "execution_count": null,
   "metadata": {},
   "outputs": [],
   "source": [
    "SELECT DISTINCT logs1.Num AS ConsecutiveNums # select unique numbers in table\n",
    "FROM Logs AS logs1, Logs AS logs2, Logs AS logs3 # 3 times from the same table with a different alias\n",
    "WHERE logs1.Id = logs2.Id-1 # I want the same id happening 3 times consecutively, I am joining them as a chain\n",
    "AND logs2.Id = logs3.Id-1\n",
    "AND logs1.Num = logs2.Num # and I want the number to be the same in all three cases\n",
    "AND logs2.Num = logs3.Num"
   ]
  },
  {
   "cell_type": "markdown",
   "metadata": {},
   "source": [
    "5. Employees Earning More than their Managers"
   ]
  },
  {
   "cell_type": "code",
   "execution_count": null,
   "metadata": {},
   "outputs": [],
   "source": [
    "Select employees.Name AS 'Employee'\n",
    "FROM Employee as employees, Employee as managers #We need the information twice!\n",
    "WHERE employees.ManagerId = managers.Id\n",
    "AND employees.Salary > managers.Salary #notice how we can compare the salaries directly inside the WHERE statement"
   ]
  },
  {
   "cell_type": "markdown",
   "metadata": {},
   "source": [
    "6. Find Duplicate Emails"
   ]
  },
  {
   "cell_type": "code",
   "execution_count": null,
   "metadata": {},
   "outputs": [],
   "source": [
    "SELECT DISTINCT p1.Email\n",
    "FROM Person AS p1, Person AS p2\n",
    "WHERE p1.Email = p2.Email\n",
    "AND p1.id != p2.id\n",
    "## or ##\n",
    "SELECT Email\n",
    "FROM Person\n",
    "GROUP BY Email\n",
    "HAVING COUNT(Email) > 1"
   ]
  },
  {
   "cell_type": "markdown",
   "metadata": {},
   "source": [
    "7. Identifying Customers who never Order"
   ]
  },
  {
   "cell_type": "code",
   "execution_count": null,
   "metadata": {},
   "outputs": [],
   "source": [
    "SELECT Name AS Customers\n",
    "FROM Customers AS c\n",
    "WHERE c.Id NOT IN (  ## notice how we use a subquery in order to create the numbers where Id will be NOT IN  \n",
    "    SELECT CustomerId\n",
    "    FROM Orders);\n",
    "## or ##\n",
    "SELECT Name AS Customers\n",
    "FROM Customers\n",
    "LEFT JOIN Orders\n",
    "ON Customers.Id = Orders.CustomerId  ## or we can create a table and select those rows with missing values (which satisfies\n",
    "WHERE Orders.CustomerId IS NULL      ## our criterion). This solution is a bit slower"
   ]
  },
  {
   "cell_type": "markdown",
   "metadata": {},
   "source": [
    "8. Department Top Three Salaries"
   ]
  },
  {
   "cell_type": "code",
   "execution_count": null,
   "metadata": {},
   "outputs": [],
   "source": [
    "SELECT d.Name AS Department, e.Name AS Employee, e.Salary\n",
    "FROM Department d\n",
    "JOIN Employee e\n",
    "WHERE e.DepartmentId=d.Id ## here I'm just joining the two tables, but then I add another condition:\n",
    "AND (\n",
    "    SELECT COUNT(DISTINCT Salary)\n",
    "    FROM Employee\n",
    "    WHERE DepartmentId=d.Id\n",
    "    AND Salary > e.Salary) < 3 ## for each salary which is among Top 3, it must be less than \n",
    "                               ## or equal to at most 3 other salaries in that department\n",
    "    ## or ##\n",
    "SELECT x.Name AS Department, a.Name AS Employee, a.Salary AS Salary\n",
    "FROM Employee a\n",
    "JOIN (SELECT DISTINCT DepartmentId, Salary FROM Employee) b\n",
    "ON a.DepartmentId = b.DepartmentId\n",
    "AND a.Salary <= b.Salary\n",
    "JOIN Department x\n",
    "ON a.DepartmentId = x.Id\n",
    "GROUP BY  a.DepartmentId, a.Name, a.Salary\n",
    "HAVING COUNT(a.Salary) <= 3;"
   ]
  },
  {
   "cell_type": "markdown",
   "metadata": {},
   "source": [
    "9. Delete Duplicate Emails "
   ]
  },
  {
   "cell_type": "code",
   "execution_count": null,
   "metadata": {},
   "outputs": [],
   "source": [
    "DELETE FROM Person           ## I'm telling SQL to delete all rows that are not found in the 'table of minimum ids' \n",
    "WHERE Id NOT IN              ## that I create below in a subquery.\n",
    "    (SELECT *                ## here I just select everything from the table of the subquery below\n",
    "    FROM (\n",
    "         SELECT MIN(Id) \n",
    "         FROM Person \n",
    "         GROUP BY Email) p); ## in this subquery I select the minimum id for each email in Person\n",
    "    ## or ##\n",
    "DELETE p1 FROM Person p1,    \n",
    "    Person p2\n",
    "WHERE\n",
    "    p1.Email = p2.Email AND p1.Id > p2.Id"
   ]
  },
  {
   "cell_type": "markdown",
   "metadata": {},
   "source": [
    "10. Rising Temperatue"
   ]
  },
  {
   "cell_type": "code",
   "execution_count": null,
   "metadata": {},
   "outputs": [],
   "source": [
    "SELECT t1.Id\n",
    "FROM Weather AS t1, Weather AS t2  ## remember that you can select from many tables with the FROM clause!\n",
    "WHERE t1.Temperature > t2.Temperature          ## Our two conditions is temperature should be greater and the difference\n",
    "AND DATEDIFF(t1.RecordDate, t2.RecordDate)=1;  ## should be one day  "
   ]
  },
  {
   "cell_type": "markdown",
   "metadata": {},
   "source": [
    "11. Trips and Users"
   ]
  },
  {
   "cell_type": "code",
   "execution_count": null,
   "metadata": {},
   "outputs": [],
   "source": [
    "SELECT Request_at AS Day,\n",
    "    ROUND(SUM(CASE WHEN Status LIKE 'cancelled_%' THEN 1 ELSE 0 END)/COUNT(*),2) AS 'Cancellation Rate' ## conditional inside SELECT\n",
    "FROM Trips\n",
    "WHERE Client_Id IN (SELECT Users_Id FROM Users WHERE Banned = 'No') ## I'm making two subqueries where the tables are already\n",
    "AND Driver_Id IN (SELECT Users_Id FROM Users WHERE Banned = 'No')   ## filtered for only the results that are acceptable\n",
    "AND Request_at BETWEEN '2013-10-01' AND '2013-10-03'\n",
    "GROUP BY Request_at;                                                ## Since I have an aggregation above, I need to GB "
   ]
  },
  {
   "cell_type": "markdown",
   "metadata": {},
   "source": [
    "12. Big Countries"
   ]
  },
  {
   "cell_type": "code",
   "execution_count": null,
   "metadata": {},
   "outputs": [],
   "source": [
    "SELECT name, population, area\n",
    "FROM World\n",
    "WHERE population > 25000000\n",
    "OR area > 3000000"
   ]
  },
  {
   "cell_type": "markdown",
   "metadata": {},
   "source": [
    "13. Classes with More than 5 Students"
   ]
  },
  {
   "cell_type": "code",
   "execution_count": null,
   "metadata": {},
   "outputs": [],
   "source": [
    "SELECT class\n",
    "FROM (\n",
    "    SELECT class, COUNT(DISTINCT student) AS num  ## I use this subquery so I can erase the extra column from my final result\n",
    "    FROM courses\n",
    "    GROUP BY class\n",
    "    ) temp\n",
    "WHERE num >= 5 ## note that I can use the alias num because the other table was already created in the subquery; otherwise I \n",
    "               ## can't\n",
    "\n",
    " ## or ##\n",
    "    \n",
    "SELECT class\n",
    "FROM courses\n",
    "GROUP BY class\n",
    "HAVING COUNT(DISTINCT student) >= 5"
   ]
  },
  {
   "cell_type": "markdown",
   "metadata": {},
   "source": [
    "14. Game Play Analysis I"
   ]
  },
  {
   "cell_type": "code",
   "execution_count": null,
   "metadata": {},
   "outputs": [],
   "source": [
    "SELECT player_id, MIN(event_date) AS first_login\n",
    "FROM Activity\n",
    "GROUP BY player_id;"
   ]
  },
  {
   "cell_type": "markdown",
   "metadata": {},
   "source": [
    "15. Game Play Analysis II"
   ]
  },
  {
   "cell_type": "code",
   "execution_count": null,
   "metadata": {},
   "outputs": [],
   "source": [
    "SELECT player_id, device_id \n",
    "FROM activity \n",
    "WHERE (player_id, event_date) IN (   ## the variable to which you apply your WHERE clause can be a tuple!\n",
    "                                SELECT player_id, MIN(event_date)\n",
    "                                FROM activity \n",
    "                                GROUP BY by player_id\n",
    "                                 ) "
   ]
  },
  {
   "cell_type": "markdown",
   "metadata": {},
   "source": [
    "16. Game Play Analysis III"
   ]
  },
  {
   "cell_type": "code",
   "execution_count": null,
   "metadata": {},
   "outputs": [],
   "source": [
    "SELECT a1.player_id, a1.event_date, SUM(a2.games_played) AS games_played_so_far\n",
    "FROM Activity a1, Activity a2  ## self join\n",
    "WHERE a1.event_date >= a2.event_date\n",
    "AND a1.player_id = a2.player_id\n",
    "GROUP BY a1.player_id, a1.event_date; ## If I don't group by player and event date here, I'll just get the total sum of 33\n",
    "\n",
    "  ## or ##\n",
    "    \n",
    "SELECT a1.player_id, a1.event_date,\n",
    " (SELECT sum(a2.games_played) FROM activity a2\n",
    " WHERE a1.player_id = a2.player_id AND a1.event_date >=a2.event_date\n",
    " GROUP BY a1.player_id)\n",
    " AS games_played_so_far\n",
    " FROM activity a1;  ## this attempt is using a correlated subquery and it is much slower than the one above"
   ]
  },
  {
   "cell_type": "markdown",
   "metadata": {},
   "source": [
    "17. Game Play Analysis IV"
   ]
  },
  {
   "cell_type": "code",
   "execution_count": null,
   "metadata": {},
   "outputs": [],
   "source": [
    "SELECT ROUND(COUNT(t2.player_id)/COUNT(t1.player_id),2) AS fraction\n",
    "FROM (\n",
    "    SELECT player_id, MIN(event_date) AS first_login\n",
    "    FROM Activity \n",
    "    GROUP BY player_id) t1 \n",
    "LEFT JOIN Activity t2\n",
    "ON t1.player_id = t2.player_id AND t1.first_login = t2.event_date - 1\n",
    "\n",
    "    ## or ## \n",
    "    \n",
    "SELECT ROUND(SUM(CASE WHEN temp.min_date + 1 = a.event_date THEN 1 ELSE 0 END) / COUNT(DISTINCT temp.player_id), 2) AS fraction\n",
    "FROM (\n",
    "    SELECT player_id, MIN(event_date) AS min_date   ## this is a much faster solution\n",
    "    FROM Activity\n",
    "    GROUP BY player_id) temp\n",
    "JOIN Activity a\n",
    "ON a.player_id = temp.player_id;"
   ]
  },
  {
   "cell_type": "markdown",
   "metadata": {},
   "source": [
    "18. Employee Bonus"
   ]
  },
  {
   "cell_type": "code",
   "execution_count": null,
   "metadata": {},
   "outputs": [],
   "source": [
    "SELECT name, bonus\n",
    "FROM Employee e\n",
    "LEFT JOIN Bonus b\n",
    "ON b.empId = e.empId\n",
    "WHERE bonus < 1000\n",
    "OR bonus IS NULL "
   ]
  },
  {
   "cell_type": "markdown",
   "metadata": {},
   "source": [
    "19. Find Customer Referee"
   ]
  },
  {
   "cell_type": "code",
   "execution_count": null,
   "metadata": {},
   "outputs": [],
   "source": [
    "SELECT name\n",
    "FROM customer\n",
    "WHERE referee_id != 2\n",
    "OR referee_id IS NULL"
   ]
  },
  {
   "cell_type": "markdown",
   "metadata": {},
   "source": [
    "20. Project Employees I"
   ]
  },
  {
   "cell_type": "code",
   "execution_count": null,
   "metadata": {},
   "outputs": [],
   "source": [
    "SELECT project_id, ROUND(AVG(experience_years),2) AS average_years\n",
    "FROM Project p\n",
    "LEFT JOIN Employee e\n",
    "ON e.employee_id = p.employee_id\n",
    "GROUP BY project_id;"
   ]
  },
  {
   "cell_type": "markdown",
   "metadata": {},
   "source": [
    "21. Project Employees II"
   ]
  },
  {
   "cell_type": "code",
   "execution_count": null,
   "metadata": {},
   "outputs": [],
   "source": [
    "SELECT project_id         ### ???????\n",
    "FROM (\n",
    "    SELECT project_id, COUNT(DISTINCT employee_id) AS num_employees\n",
    "    FROM Project\n",
    "    GROUP BY project_id\n",
    "    ORDER BY num_employees DESC) temp\n",
    "LIMIT 1\n",
    "\n",
    " ## or ##\n",
    "SELECT project_id\n",
    "FROM project\n",
    "GROUP BY project_id\n",
    "HAVING COUNT(employee_id) =  ## I can have an abstract equality here, equating a varible COUNT to a table that has aggregated\n",
    "(                            ## data. Notice that all the aggregation, purging and ordering of the data is done inside the  \n",
    "    SELECT count(employee_id)    ## subquery. What this subquery is giving me is the number of employees that the project\n",
    "    FROM project                 ## with most employees has \n",
    "    GROUP BY project_id\n",
    "    ORDER BY count(employee_id) desc\n",
    "    LIMIT 1\n",
    ")"
   ]
  },
  {
   "cell_type": "markdown",
   "metadata": {},
   "source": [
    "22. Project Employees III"
   ]
  },
  {
   "cell_type": "code",
   "execution_count": null,
   "metadata": {},
   "outputs": [],
   "source": [
    "SELECT p.project_id, e.employee_id\n",
    "FROM Project p\n",
    "JOIN Employee e \n",
    "ON e.employee_id = p.employee_id\n",
    "WHERE (p.project_id, e.experience_years) IN (  ##we are doing an inner join where the project id and employee years match\n",
    "    SELECT p.project_id, MAX(experience_years) ## the id and maximum experience years per project\n",
    "    FROM project p\n",
    "    JOIN Employee e\n",
    "    ON e.employee_id=p.employee_id\n",
    "    GROUP BY project_id)\n",
    "\n",
    "## or ##\n",
    "\n",
    "SELECT sub2.project_id, sub1.employee_id  ## notice here how both of our tables are subqueries\n",
    "FROM (SELECT p.project_id, p.employee_id, e.experience_years\n",
    "     FROM Project p \n",
    "     JOIN Employee e\n",
    "     ON p.employee_id = e.employee_id) sub1 ## this table is the full table with all the data\n",
    "JOIN (SELECT p.project_id, MAX(e.experience_years) AS max_exp  ## this is the table with each project id's and its maximum\n",
    "            FROM Project p                                     ## experience years\n",
    "            JOIN Employee e\n",
    "            ON p.employee_id = e.employee_id\n",
    "            GROUP BY p.project_id) sub2\n",
    "ON sub1.project_id = sub2.project_id AND sub1.experience_years = sub2.max_exp ## finally we tell SQL to keep only those \n",
    "                                                                              ## project ids such that the experience years \n",
    "                                                                               ## match the maximum exp."
   ]
  },
  {
   "cell_type": "markdown",
   "metadata": {},
   "source": [
    "23. Actors and Directors Who Cooperated At Least Three Times"
   ]
  },
  {
   "cell_type": "code",
   "execution_count": null,
   "metadata": {},
   "outputs": [],
   "source": [
    "SELECT actor_id, director_id\n",
    "FROM (\n",
    "    SELECT actor_id, director_id, COUNT(*) AS N\n",
    "    FROM ActorDirector\n",
    "    GROUP BY actor_id, director_id  ## on this exercise, the meaningful row entry is (actor_id, director_id)\n",
    "    HAVING N > 2) temp\n",
    "ORDER BY actor_id, director_id"
   ]
  },
  {
   "cell_type": "markdown",
   "metadata": {},
   "source": [
    "24. Product Sales Analysis"
   ]
  },
  {
   "cell_type": "code",
   "execution_count": null,
   "metadata": {},
   "outputs": [],
   "source": [
    "SELECT product_name, s.year, price\n",
    "FROM Sales s\n",
    "JOIN Product p\n",
    "ON p.product_id = s.product_id"
   ]
  },
  {
   "cell_type": "markdown",
   "metadata": {},
   "source": [
    "25. Product Sales Analysis II"
   ]
  },
  {
   "cell_type": "code",
   "execution_count": null,
   "metadata": {},
   "outputs": [],
   "source": [
    "SELECT product_id, SUM(quantity) AS total_quantity\n",
    "FROM Sales\n",
    "GROUP BY product_id;"
   ]
  },
  {
   "cell_type": "markdown",
   "metadata": {},
   "source": [
    "26. Consecutive Available Seats"
   ]
  },
  {
   "cell_type": "code",
   "execution_count": null,
   "metadata": {},
   "outputs": [],
   "source": [
    "SELECT DISTINCT a.seat_id\n",
    "FROM cinema a JOIN cinema b  ## we perform a self join which by itself would return the cartesian product of the tables\n",
    "ON ABS(a.seat_id - b.seat_id) = 1   ## but then we constrain it such that the absolute diff between seat_ids is 1\n",
    "WHERE a.free = true AND b.free = true ## and then the conditions such that both seats are free\n",
    "ORDER BY a.seat_id;\n",
    "\n",
    "## or ##\n",
    "\n",
    "SELECT DISTINCT seat_id      \n",
    "FROM cinema\n",
    "WHERE free = true         ## select all ids that are free\n",
    "AND (             \n",
    "    seat_id - 1 IN (      ## and also such that the previous seat was also included in the 'table of free seats'\n",
    "         SELECT seat_id\n",
    "        FROM cinema\n",
    "        WHERE free = true) OR\n",
    "    seat_id + 1 IN (     ## OR such that the next seat is also included in the 'table of free seats'\n",
    "        SELECT seat_id\n",
    "        FROM cinema\n",
    "        WHERE free = true))"
   ]
  },
  {
   "cell_type": "markdown",
   "metadata": {},
   "source": [
    "27. Sales Person"
   ]
  },
  {
   "cell_type": "code",
   "execution_count": null,
   "metadata": {},
   "outputs": [],
   "source": [
    "SELECT name\n",
    "FROM salesperson\n",
    "WHERE name NOT IN (    ## I'm telling SQL to grab the people who have not sold to red\n",
    "    SELECT s.name      ## this is a subquery that creates a table of all the people who have sold to RED company\n",
    "    FROM salesperson s\n",
    "    JOIN orders o\n",
    "    ON o.sales_id = s.sales_id\n",
    "    JOIN company c\n",
    "    ON c.com_id = o.com_id\n",
    "    WHERE c.name = 'RED')"
   ]
  },
  {
   "cell_type": "markdown",
   "metadata": {},
   "source": [
    "28. Reported Posts"
   ]
  },
  {
   "cell_type": "code",
   "execution_count": null,
   "metadata": {},
   "outputs": [],
   "source": [
    "SELECT extra AS report_reason, COUNT(DISTINCT post_id) AS report_count\n",
    "FROM Actions\n",
    "WHERE action = 'report'\n",
    "AND extra IS NOT NULL\n",
    "AND action_date = '2019-07-04'\n",
    "GROUP BY extra;"
   ]
  },
  {
   "cell_type": "markdown",
   "metadata": {},
   "source": [
    "29. Managers with at least 5 Direct Reports"
   ]
  },
  {
   "cell_type": "code",
   "execution_count": null,
   "metadata": {},
   "outputs": [],
   "source": [
    "SELECT Name\n",
    "FROM Employee\n",
    "WHERE Id IN (   ## we want the Id to be the one such that it appears as a 'ManagerId' at least 5 times\n",
    "    SELECT ManagerId\n",
    "    FROM Employee\n",
    "    GROUP BY ManagerId\n",
    "    HAVING COUNT(ManagerId) >= 5)"
   ]
  },
  {
   "cell_type": "markdown",
   "metadata": {},
   "source": [
    "30. Winning Candidate"
   ]
  },
  {
   "cell_type": "code",
   "execution_count": null,
   "metadata": {},
   "outputs": [],
   "source": [
    "## I can solve this exercise using a WHERE clause with a subquery or joining tables. Turns out the WHERE method is much \n",
    "## more efficient. \n",
    "\n",
    "SELECT Name\n",
    "FROM Candidate\n",
    "WHERE id = (   ## From this subquery I am getting a single number, so the WHERE condition holds.\n",
    "    SELECT CandidateId\n",
    "    FROM Vote\n",
    "    GROUP BY CandidateId\n",
    "    ORDER BY COUNT(*) DESC\n",
    "    LIMIT 1)\n",
    "\n",
    "## or ##\n",
    "\n",
    "SELECT Name\n",
    "FROM Candidate\n",
    "JOIN (         ## Here I am creating the table of candidate ids ordered by number of votes received\n",
    "    SELECT CandidateId    ## it turns out to be just the winner, because I limit the output to only the candidate with \n",
    "    FROM Vote             ## maximum votes.\n",
    "    GROUP BY CandidateId\n",
    "    ORDER BY COUNT(*) DESC\n",
    "    LIMIT 1) winner\n",
    "ON Candidate.id = winner.CandidateId"
   ]
  },
  {
   "cell_type": "markdown",
   "metadata": {},
   "source": [
    "31. Customer Placing the Largest Number of Orders"
   ]
  },
  {
   "cell_type": "code",
   "execution_count": null,
   "metadata": {},
   "outputs": [],
   "source": [
    "SELECT customer_number\n",
    "FROM orders\n",
    "GROUP BY customer_number\n",
    "ORDER BY COUNT(*) DESC\n",
    "LIMIT 1"
   ]
  },
  {
   "cell_type": "markdown",
   "metadata": {},
   "source": [
    "32. Friend Requests II: Who Has the Most Friends?"
   ]
  },
  {
   "cell_type": "code",
   "execution_count": null,
   "metadata": {},
   "outputs": [],
   "source": [
    "SELECT requester_id AS id, COUNT(requester_id) AS num\n",
    "FROM (\n",
    "    SELECT requester_id \n",
    "    FROM request_accepted\n",
    "    UNION ALL\n",
    "    SELECT accepter_id\n",
    "    FROM request_accepted) ids\n",
    "GROUP BY requester_id\n",
    "ORDER BY 2 DESC\n",
    "LIMIT 1;"
   ]
  },
  {
   "cell_type": "markdown",
   "metadata": {},
   "source": [
    "33. Not Boring Movies"
   ]
  },
  {
   "cell_type": "code",
   "execution_count": null,
   "metadata": {},
   "outputs": [],
   "source": [
    "SELECT *\n",
    "FROM cinema\n",
    "WHERE ID%2 <> 0\n",
    "AND description <> 'boring'\n",
    "ORDER BY rating DESC;"
   ]
  },
  {
   "cell_type": "markdown",
   "metadata": {},
   "source": [
    "34. Immediate Food Delivery"
   ]
  },
  {
   "cell_type": "code",
   "execution_count": null,
   "metadata": {},
   "outputs": [],
   "source": [
    "SELECT ROUND(100*AVG(order_date = customer_pref_delivery_date), 2) AS immediate_percentage\n",
    "FROM Delivery;\n",
    "\n",
    "## or ##\n",
    "\n",
    "SELECT ROUND(100*SUM(CASE \n",
    "                       WHEN order_date = customer_pref_delivery_date THEN 1 \n",
    "                       ELSE 0 END)/COUNT(order_date),2) AS immediate_percentage\n",
    "FROM Delivery;"
   ]
  },
  {
   "cell_type": "markdown",
   "metadata": {},
   "source": [
    "35. Count Student Numbers in Department"
   ]
  },
  {
   "cell_type": "markdown",
   "metadata": {},
   "source": [
    "SELECT dept_name, COUNT(student_id) AS student_number\n",
    "FROM student s\n",
    "RIGHT JOIN department d\n",
    "ON d.dept_id = s.dept_id\n",
    "GROUP BY dept_name\n",
    "ORDER BY 2 DESC, 1;"
   ]
  },
  {
   "cell_type": "markdown",
   "metadata": {},
   "source": [
    "36. Unpopular Books"
   ]
  },
  {
   "cell_type": "code",
   "execution_count": null,
   "metadata": {},
   "outputs": [],
   "source": [
    "SELECT  b.book_id, name\n",
    "FROM Books AS b\n",
    "LEFT JOIN\n",
    "Orders AS o\n",
    "ON b.book_id = o.book_id\n",
    "AND datediff('2019-06-23', dispatch_date) <=365\n",
    "WHERE datediff('2019-06-23', available_from)>=30\n",
    "GROUP BY b.book_id\n",
    "HAVING SUM(quantity)<10 OR SUM(quantity) is null"
   ]
  },
  {
   "cell_type": "markdown",
   "metadata": {},
   "source": [
    "37. Sales Analysis I"
   ]
  },
  {
   "cell_type": "code",
   "execution_count": null,
   "metadata": {},
   "outputs": [],
   "source": [
    "SELECT seller_id\n",
    "FROM Sales\n",
    "GROUP BY seller_id\n",
    "HAVING SUM(price) = (SELECT SUM(price) AS total\n",
    "                    FROM Sales\n",
    "                    GROUP BY seller_id\n",
    "                    ORDER BY 1 DESC\n",
    "                    LIMIT 1); "
   ]
  },
  {
   "cell_type": "markdown",
   "metadata": {},
   "source": [
    "38. Sales Analysis II"
   ]
  },
  {
   "cell_type": "code",
   "execution_count": null,
   "metadata": {},
   "outputs": [],
   "source": []
  },
  {
   "cell_type": "markdown",
   "metadata": {},
   "source": [
    "39. Sales Analysis III"
   ]
  },
  {
   "cell_type": "code",
   "execution_count": null,
   "metadata": {},
   "outputs": [],
   "source": [
    "SELECT product_id, product_name\n",
    "FROM Product\n",
    "WHERE product_id NOT IN (SELECT product_id \n",
    "                         FROM Sales \n",
    "                         WHERE sale_date NOT BETWEEN '2019-01-01' AND '2019-03-31');"
   ]
  },
  {
   "cell_type": "markdown",
   "metadata": {},
   "source": [
    "40. User Activity for the past 30 Days"
   ]
  },
  {
   "cell_type": "code",
   "execution_count": null,
   "metadata": {},
   "outputs": [],
   "source": [
    "SELECT activity_date AS day, COUNT(DISTINCT user_id) AS active_users\n",
    "FROM Activity\n",
    "WHERE activity_date BETWEEN \"2019-06-28\" AND \"2019-07-27\"\n",
    "GROUP BY 1"
   ]
  },
  {
   "cell_type": "markdown",
   "metadata": {},
   "source": [
    "41. User Activity for the past 30 Days II"
   ]
  },
  {
   "cell_type": "code",
   "execution_count": null,
   "metadata": {},
   "outputs": [],
   "source": [
    "SELECT IFNULL(ROUND(AVG(sessions),2),0.00) AS average_sessions_per_user\n",
    "FROM (\n",
    "    SELECT user_id, COUNT(DISTINCT session_id) AS sessions\n",
    "    FROM Activity\n",
    "    WHERE activity_date BETWEEN \"2019-06-28\" AND \"2019-07-27\"\n",
    "    GROUP BY user_id) temp"
   ]
  },
  {
   "cell_type": "markdown",
   "metadata": {},
   "source": [
    "42. Article Views II"
   ]
  },
  {
   "cell_type": "code",
   "execution_count": null,
   "metadata": {},
   "outputs": [],
   "source": [
    "SELECT DISTINCT author_id AS id \n",
    "FROM Views \n",
    "WHERE author_id = viewer_id \n",
    "ORDER BY id"
   ]
  },
  {
   "cell_type": "markdown",
   "metadata": {},
   "source": [
    "43. Second Degree Follower"
   ]
  },
  {
   "cell_type": "code",
   "execution_count": null,
   "metadata": {},
   "outputs": [],
   "source": [
    "SELECT followee as follower, COUNT(distinct follower) as num\n",
    "FROM follow\n",
    "WHERE followee in (SELECT follower FROM follow)\n",
    "GROUP BY 1"
   ]
  }
 ],
 "metadata": {
  "kernelspec": {
   "display_name": "Python 3",
   "language": "python",
   "name": "python3"
  },
  "language_info": {
   "codemirror_mode": {
    "name": "ipython",
    "version": 3
   },
   "file_extension": ".py",
   "mimetype": "text/x-python",
   "name": "python",
   "nbconvert_exporter": "python",
   "pygments_lexer": "ipython3",
   "version": "3.7.0"
  }
 },
 "nbformat": 4,
 "nbformat_minor": 2
}
